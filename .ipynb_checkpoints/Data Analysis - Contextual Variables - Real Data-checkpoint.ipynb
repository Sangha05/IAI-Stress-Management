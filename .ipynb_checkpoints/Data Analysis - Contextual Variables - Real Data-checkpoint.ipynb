{
 "cells": [
  {
   "cell_type": "markdown",
   "metadata": {},
   "source": [
    "## Data Cleaning and Data Wrangling"
   ]
  },
  {
   "cell_type": "code",
   "execution_count": 79,
   "metadata": {},
   "outputs": [],
   "source": [
    "import pandas as pd\n",
    "import numpy as np\n",
    "import matplotlib.pyplot as plt\n",
    "import scipy.stats as stats"
   ]
  },
  {
   "cell_type": "code",
   "execution_count": 83,
   "metadata": {},
   "outputs": [
    {
     "name": "stdout",
     "output_type": "stream",
     "text": [
      "<class 'pandas.core.frame.DataFrame'>\n",
      "RangeIndex: 531 entries, 0 to 530\n",
      "Data columns (total 7 columns):\n",
      "prestress     531 non-null int32\n",
      "poststress    531 non-null int32\n",
      "age           531 non-null int32\n",
      "gender        477 non-null category\n",
      "treatment     531 non-null object\n",
      "CBThelp       531 non-null object\n",
      "change        531 non-null int32\n",
      "dtypes: category(1), int32(4), object(2)\n",
      "memory usage: 17.3+ KB\n"
     ]
    }
   ],
   "source": [
    "file = pd.read_csv('Sept_14_Data.csv')\n",
    "file = file[file.columns[:-2]]\n",
    "file = file.drop([0, 1]).reset_index().drop('index', axis=1)\n",
    "\n",
    "df = pd.DataFrame()\n",
    "# Q45 - Please rate how troubled you feel about your stressful situation. Scale 0 (not troubled)-10 (very troubled)\n",
    "file['Q45'] = file['Q45'].replace(['', np.inf, -np.inf], np.nan)\n",
    "# Q46 - Please re-rate how troubled you feel about your stressful situation. Scale 0 (not troubled)-10 (very troubled)\n",
    "file['Q46'] = file['Q46'].replace(['', np.inf, -np.inf], np.nan)\n",
    "\n",
    "\n",
    "df[\"prestress\"] = file[\"Q45\"].fillna(file[\"Q31\"]).replace(['', np.inf, -np.inf, np.nan], -99)\n",
    "df[\"poststress\"] = file[\"Q46\"].fillna(file[\"Q32\"]).replace(['', np.inf, -np.inf, np.nan], -99)\n",
    "\n",
    "# Q109 - How old are you? Values allowed 18 to 100\n",
    "df[\"age\"] = file['Q109'].replace(['', np.inf, -np.inf, np.nan], -99)\n",
    "# Q110 - How would you describe your gender identity? 1-Male, 2-Female, 4-Other\n",
    "df[\"gender\"] = file['Q110']\n",
    "# Q107 - Have you sought treatment from a professional for any of the following? 8 options with user choice of 0 to 8 options\n",
    "df[\"treatment\"] = file['Q107'].replace(np.nan,0)\n",
    "# Q129 - How much experience have you had previously with Cognitive Behavioral Therapy Techniques? 4 options - single answer\n",
    "# NOTE: Not Available in CSV\n",
    "# df[\"CBTself\"] = file['Q129'].replace('',np.nan)\n",
    "# Q130 - How many therapy/counseling sessions have you been to (using Cognitive Behavioral Therapy techniques)? 4 options\n",
    "# NOTE: Not Available in CSV\n",
    "# df[\"CBTsess\"] = file['Q130'].replace('',np.nan)\n",
    "# Q114 - How much experience have you had previously with Cognitive Behavioral Therapy Techniques. Choose all that apply.\n",
    "df[\"CBThelp\"] = file['Q114'].replace(np.nan,0)\n",
    "\n",
    "df[\"poststress\"] = df[\"poststress\"].astype(int)\n",
    "df[\"prestress\"] = df[\"prestress\"].astype(int)\n",
    "df[\"age\"] = df[\"age\"].astype(int)\n",
    "df[\"gender\"] = df[\"gender\"].astype('category')\n",
    "\n",
    "# Reward - Change in stress level\n",
    "df['change'] = df['prestress'] - df['poststress']\n",
    "\n",
    "df.info()"
   ]
  },
  {
   "cell_type": "code",
   "execution_count": 84,
   "metadata": {},
   "outputs": [
    {
     "name": "stdout",
     "output_type": "stream",
     "text": [
      "<class 'pandas.core.frame.DataFrame'>\n",
      "RangeIndex: 473 entries, 0 to 472\n",
      "Data columns (total 7 columns):\n",
      "prestress     473 non-null float64\n",
      "poststress    473 non-null float64\n",
      "age           473 non-null float64\n",
      "gender        473 non-null category\n",
      "treatment     473 non-null object\n",
      "CBThelp       473 non-null object\n",
      "change        473 non-null int32\n",
      "dtypes: category(1), float64(3), int32(1), object(2)\n",
      "memory usage: 21.0+ KB\n"
     ]
    }
   ],
   "source": [
    "# Remove all values with -99 which indicates that the user hasn't filled the field\n",
    "df = df.replace(-99,np.nan)\n",
    "df.dropna(inplace=True)\n",
    "df.reset_index(drop=True, inplace=True)\n",
    "df.info()"
   ]
  },
  {
   "cell_type": "code",
   "execution_count": 85,
   "metadata": {},
   "outputs": [
    {
     "data": {
      "text/html": [
       "<div>\n",
       "<style scoped>\n",
       "    .dataframe tbody tr th:only-of-type {\n",
       "        vertical-align: middle;\n",
       "    }\n",
       "\n",
       "    .dataframe tbody tr th {\n",
       "        vertical-align: top;\n",
       "    }\n",
       "\n",
       "    .dataframe thead th {\n",
       "        text-align: right;\n",
       "    }\n",
       "</style>\n",
       "<table border=\"1\" class=\"dataframe\">\n",
       "  <thead>\n",
       "    <tr style=\"text-align: right;\">\n",
       "      <th></th>\n",
       "      <th>prestress</th>\n",
       "      <th>poststress</th>\n",
       "      <th>age</th>\n",
       "      <th>gender</th>\n",
       "      <th>treatment</th>\n",
       "      <th>CBThelp</th>\n",
       "      <th>change</th>\n",
       "      <th>Anxiety_disorders</th>\n",
       "      <th>Depression</th>\n",
       "      <th>Bipolar_disorder</th>\n",
       "      <th>Personality_disorders</th>\n",
       "      <th>Psychosis</th>\n",
       "      <th>Schizoaffective_disorder</th>\n",
       "      <th>Schizophrenia</th>\n",
       "      <th>Stress</th>\n",
       "    </tr>\n",
       "  </thead>\n",
       "  <tbody>\n",
       "    <tr>\n",
       "      <td>0</td>\n",
       "      <td>4.0</td>\n",
       "      <td>2.0</td>\n",
       "      <td>53.0</td>\n",
       "      <td>1.0</td>\n",
       "      <td>0</td>\n",
       "      <td>1</td>\n",
       "      <td>2</td>\n",
       "      <td>0</td>\n",
       "      <td>0</td>\n",
       "      <td>0</td>\n",
       "      <td>0</td>\n",
       "      <td>0</td>\n",
       "      <td>0</td>\n",
       "      <td>0</td>\n",
       "      <td>0</td>\n",
       "    </tr>\n",
       "    <tr>\n",
       "      <td>1</td>\n",
       "      <td>9.0</td>\n",
       "      <td>9.0</td>\n",
       "      <td>24.0</td>\n",
       "      <td>1.0</td>\n",
       "      <td>0</td>\n",
       "      <td>1</td>\n",
       "      <td>0</td>\n",
       "      <td>0</td>\n",
       "      <td>0</td>\n",
       "      <td>0</td>\n",
       "      <td>0</td>\n",
       "      <td>0</td>\n",
       "      <td>0</td>\n",
       "      <td>0</td>\n",
       "      <td>0</td>\n",
       "    </tr>\n",
       "    <tr>\n",
       "      <td>2</td>\n",
       "      <td>8.0</td>\n",
       "      <td>7.0</td>\n",
       "      <td>38.0</td>\n",
       "      <td>1.0</td>\n",
       "      <td>3</td>\n",
       "      <td>8</td>\n",
       "      <td>1</td>\n",
       "      <td>0</td>\n",
       "      <td>0</td>\n",
       "      <td>1</td>\n",
       "      <td>0</td>\n",
       "      <td>0</td>\n",
       "      <td>0</td>\n",
       "      <td>0</td>\n",
       "      <td>0</td>\n",
       "    </tr>\n",
       "    <tr>\n",
       "      <td>3</td>\n",
       "      <td>7.0</td>\n",
       "      <td>4.0</td>\n",
       "      <td>59.0</td>\n",
       "      <td>2.0</td>\n",
       "      <td>1,2,8</td>\n",
       "      <td>9</td>\n",
       "      <td>3</td>\n",
       "      <td>1</td>\n",
       "      <td>1</td>\n",
       "      <td>0</td>\n",
       "      <td>0</td>\n",
       "      <td>0</td>\n",
       "      <td>0</td>\n",
       "      <td>0</td>\n",
       "      <td>1</td>\n",
       "    </tr>\n",
       "    <tr>\n",
       "      <td>4</td>\n",
       "      <td>8.0</td>\n",
       "      <td>6.0</td>\n",
       "      <td>31.0</td>\n",
       "      <td>1.0</td>\n",
       "      <td>2</td>\n",
       "      <td>10,12</td>\n",
       "      <td>2</td>\n",
       "      <td>0</td>\n",
       "      <td>1</td>\n",
       "      <td>0</td>\n",
       "      <td>0</td>\n",
       "      <td>0</td>\n",
       "      <td>0</td>\n",
       "      <td>0</td>\n",
       "      <td>0</td>\n",
       "    </tr>\n",
       "  </tbody>\n",
       "</table>\n",
       "</div>"
      ],
      "text/plain": [
       "   prestress  poststress   age gender treatment CBThelp  change  \\\n",
       "0        4.0         2.0  53.0    1.0         0       1       2   \n",
       "1        9.0         9.0  24.0    1.0         0       1       0   \n",
       "2        8.0         7.0  38.0    1.0         3       8       1   \n",
       "3        7.0         4.0  59.0    2.0     1,2,8       9       3   \n",
       "4        8.0         6.0  31.0    1.0         2   10,12       2   \n",
       "\n",
       "   Anxiety_disorders  Depression  Bipolar_disorder  Personality_disorders  \\\n",
       "0                  0           0                 0                      0   \n",
       "1                  0           0                 0                      0   \n",
       "2                  0           0                 1                      0   \n",
       "3                  1           1                 0                      0   \n",
       "4                  0           1                 0                      0   \n",
       "\n",
       "   Psychosis  Schizoaffective_disorder  Schizophrenia  Stress  \n",
       "0          0                         0              0       0  \n",
       "1          0                         0              0       0  \n",
       "2          0                         0              0       0  \n",
       "3          0                         0              0       1  \n",
       "4          0                         0              0       0  "
      ]
     },
     "execution_count": 85,
     "metadata": {},
     "output_type": "execute_result"
    }
   ],
   "source": [
    "# Creating different categorical variables for the treatments the user has previously recieved\n",
    "df.treatment = df.treatment.astype(str)\n",
    "treat_dict = {1:[\"Anxiety_disorders\",1], 2:[\"Depression\",2], 3:[\"Bipolar_disorder\",4], 4:[\"Personality_disorders\",8], \n",
    "              5:[\"Psychosis\",16],6:[\"Schizoaffective_disorder\",32], 7:[\"Schizophrenia\",64], 8:[\"Stress\",128]}\n",
    "for val, treat in treat_dict.items():\n",
    "    df[treat[0]] = np.where(df.treatment.str.contains(str(val)), 1, 0)\n",
    "df.head()"
   ]
  },
  {
   "cell_type": "markdown",
   "metadata": {},
   "source": [
    "### Different methodology for coding treatment and CBThelp"
   ]
  },
  {
   "cell_type": "code",
   "execution_count": 91,
   "metadata": {},
   "outputs": [
    {
     "data": {
      "text/html": [
       "<div>\n",
       "<style scoped>\n",
       "    .dataframe tbody tr th:only-of-type {\n",
       "        vertical-align: middle;\n",
       "    }\n",
       "\n",
       "    .dataframe tbody tr th {\n",
       "        vertical-align: top;\n",
       "    }\n",
       "\n",
       "    .dataframe thead th {\n",
       "        text-align: right;\n",
       "    }\n",
       "</style>\n",
       "<table border=\"1\" class=\"dataframe\">\n",
       "  <thead>\n",
       "    <tr style=\"text-align: right;\">\n",
       "      <th></th>\n",
       "      <th>prestress</th>\n",
       "      <th>poststress</th>\n",
       "      <th>age</th>\n",
       "      <th>gender</th>\n",
       "      <th>treatment</th>\n",
       "      <th>CBThelp</th>\n",
       "      <th>change</th>\n",
       "      <th>Anxiety_disorders</th>\n",
       "      <th>Depression</th>\n",
       "      <th>Bipolar_disorder</th>\n",
       "      <th>Personality_disorders</th>\n",
       "      <th>Psychosis</th>\n",
       "      <th>Schizoaffective_disorder</th>\n",
       "      <th>Schizophrenia</th>\n",
       "      <th>Stress</th>\n",
       "      <th>treat</th>\n",
       "      <th>CBT</th>\n",
       "    </tr>\n",
       "  </thead>\n",
       "  <tbody>\n",
       "    <tr>\n",
       "      <td>0</td>\n",
       "      <td>4.0</td>\n",
       "      <td>2.0</td>\n",
       "      <td>53.0</td>\n",
       "      <td>1.0</td>\n",
       "      <td>0</td>\n",
       "      <td>1</td>\n",
       "      <td>2</td>\n",
       "      <td>0</td>\n",
       "      <td>0</td>\n",
       "      <td>0</td>\n",
       "      <td>0</td>\n",
       "      <td>0</td>\n",
       "      <td>0</td>\n",
       "      <td>0</td>\n",
       "      <td>0</td>\n",
       "      <td>0.5</td>\n",
       "      <td>1</td>\n",
       "    </tr>\n",
       "    <tr>\n",
       "      <td>1</td>\n",
       "      <td>9.0</td>\n",
       "      <td>9.0</td>\n",
       "      <td>24.0</td>\n",
       "      <td>1.0</td>\n",
       "      <td>0</td>\n",
       "      <td>1</td>\n",
       "      <td>0</td>\n",
       "      <td>0</td>\n",
       "      <td>0</td>\n",
       "      <td>0</td>\n",
       "      <td>0</td>\n",
       "      <td>0</td>\n",
       "      <td>0</td>\n",
       "      <td>0</td>\n",
       "      <td>0</td>\n",
       "      <td>0.5</td>\n",
       "      <td>1</td>\n",
       "    </tr>\n",
       "    <tr>\n",
       "      <td>2</td>\n",
       "      <td>8.0</td>\n",
       "      <td>7.0</td>\n",
       "      <td>38.0</td>\n",
       "      <td>1.0</td>\n",
       "      <td>3</td>\n",
       "      <td>8</td>\n",
       "      <td>1</td>\n",
       "      <td>0</td>\n",
       "      <td>0</td>\n",
       "      <td>1</td>\n",
       "      <td>0</td>\n",
       "      <td>0</td>\n",
       "      <td>0</td>\n",
       "      <td>0</td>\n",
       "      <td>0</td>\n",
       "      <td>4.0</td>\n",
       "      <td>8</td>\n",
       "    </tr>\n",
       "    <tr>\n",
       "      <td>3</td>\n",
       "      <td>7.0</td>\n",
       "      <td>4.0</td>\n",
       "      <td>59.0</td>\n",
       "      <td>2.0</td>\n",
       "      <td>1,2,8</td>\n",
       "      <td>9</td>\n",
       "      <td>3</td>\n",
       "      <td>1</td>\n",
       "      <td>1</td>\n",
       "      <td>0</td>\n",
       "      <td>0</td>\n",
       "      <td>0</td>\n",
       "      <td>0</td>\n",
       "      <td>0</td>\n",
       "      <td>1</td>\n",
       "      <td>131.0</td>\n",
       "      <td>9</td>\n",
       "    </tr>\n",
       "    <tr>\n",
       "      <td>4</td>\n",
       "      <td>8.0</td>\n",
       "      <td>6.0</td>\n",
       "      <td>31.0</td>\n",
       "      <td>1.0</td>\n",
       "      <td>2</td>\n",
       "      <td>10,12</td>\n",
       "      <td>2</td>\n",
       "      <td>0</td>\n",
       "      <td>1</td>\n",
       "      <td>0</td>\n",
       "      <td>0</td>\n",
       "      <td>0</td>\n",
       "      <td>0</td>\n",
       "      <td>0</td>\n",
       "      <td>0</td>\n",
       "      <td>2.0</td>\n",
       "      <td>22</td>\n",
       "    </tr>\n",
       "  </tbody>\n",
       "</table>\n",
       "</div>"
      ],
      "text/plain": [
       "   prestress  poststress   age gender treatment CBThelp  change  \\\n",
       "0        4.0         2.0  53.0    1.0         0       1       2   \n",
       "1        9.0         9.0  24.0    1.0         0       1       0   \n",
       "2        8.0         7.0  38.0    1.0         3       8       1   \n",
       "3        7.0         4.0  59.0    2.0     1,2,8       9       3   \n",
       "4        8.0         6.0  31.0    1.0         2   10,12       2   \n",
       "\n",
       "   Anxiety_disorders  Depression  Bipolar_disorder  Personality_disorders  \\\n",
       "0                  0           0                 0                      0   \n",
       "1                  0           0                 0                      0   \n",
       "2                  0           0                 1                      0   \n",
       "3                  1           1                 0                      0   \n",
       "4                  0           1                 0                      0   \n",
       "\n",
       "   Psychosis  Schizoaffective_disorder  Schizophrenia  Stress  treat  CBT  \n",
       "0          0                         0              0       0    0.5    1  \n",
       "1          0                         0              0       0    0.5    1  \n",
       "2          0                         0              0       0    4.0    8  \n",
       "3          0                         0              0       1  131.0    9  \n",
       "4          0                         0              0       0    2.0   22  "
      ]
     },
     "execution_count": 91,
     "metadata": {},
     "output_type": "execute_result"
    }
   ],
   "source": [
    "def calculate2power(n):\n",
    "  return 2**(n-1)\n",
    "\n",
    "df.CBThelp = df.CBThelp.astype(str)\n",
    "df[\"treat\"] = 0\n",
    "df[\"CBT\"] = 0\n",
    "df[\"CBT\"] = df[\"CBThelp\"].apply(lambda x: sum(map(int, x.split(','))))\n",
    "df[\"treat\"] = df[\"treatment\"].apply(lambda x: sum(\n",
    "                                map(calculate2power, \n",
    "                                    map(int, x.split(',')))))\n",
    "df.head()"
   ]
  },
  {
   "cell_type": "markdown",
   "metadata": {},
   "source": [
    "## Initial Analysis with only Age and Gender"
   ]
  },
  {
   "cell_type": "code",
   "execution_count": 92,
   "metadata": {},
   "outputs": [
    {
     "data": {
      "text/plain": [
       "<seaborn.axisgrid.FacetGrid at 0x2a21e84a630>"
      ]
     },
     "execution_count": 92,
     "metadata": {},
     "output_type": "execute_result"
    },
    {
     "data": {
      "image/png": "[encoded data removed]",
      "text/plain": [
       "<Figure size 411.875x360 with 1 Axes>"
      ]
     },
     "metadata": {
      "needs_background": "light"
     },
     "output_type": "display_data"
    }
   ],
   "source": [
    "import seaborn as sns\n",
    "import warnings\n",
    "warnings.filterwarnings('ignore')\n",
    "\n",
    "sns.lmplot(y = 'change', x = 'age', hue='gender', data = df)"
   ]
  },
  {
   "cell_type": "code",
   "execution_count": 93,
   "metadata": {},
   "outputs": [
    {
     "name": "stdout",
     "output_type": "stream",
     "text": [
      "                            OLS Regression Results                            \n",
      "==============================================================================\n",
      "Dep. Variable:                 change   R-squared:                       0.004\n",
      "Model:                            OLS   Adj. R-squared:                 -0.003\n",
      "Method:                 Least Squares   F-statistic:                    0.5769\n",
      "Date:                Thu, 21 Nov 2019   Prob (F-statistic):              0.630\n",
      "Time:                        21:22:09   Log-Likelihood:                -915.22\n",
      "No. Observations:                 473   AIC:                             1838.\n",
      "Df Residuals:                     469   BIC:                             1855.\n",
      "Df Model:                           3                                         \n",
      "Covariance Type:            nonrobust                                         \n",
      "====================================================================================\n",
      "                       coef    std err          t      P>|t|      [0.025      0.975]\n",
      "------------------------------------------------------------------------------------\n",
      "Intercept           -0.0718      0.265     -0.271      0.787      -0.593       0.449\n",
      "C(gender)[T.2.0]     0.0565      0.168      0.337      0.736      -0.273       0.386\n",
      "C(gender)[T.4.0]    -0.1624      0.695     -0.234      0.815      -1.527       1.202\n",
      "age                  0.0082      0.008      1.089      0.277      -0.007       0.023\n",
      "==============================================================================\n",
      "Omnibus:                       55.976   Durbin-Watson:                   1.879\n",
      "Prob(Omnibus):                  0.000   Jarque-Bera (JB):              371.680\n",
      "Skew:                           0.185   Prob(JB):                     1.95e-81\n",
      "Kurtosis:                       7.327   Cond. No.                         327.\n",
      "==============================================================================\n",
      "\n",
      "Warnings:\n",
      "[1] Standard Errors assume that the covariance matrix of the errors is correctly specified.\n"
     ]
    }
   ],
   "source": [
    "import statsmodels.formula.api as smf\n",
    "model = smf.ols(\"change ~ age + C(gender)\", data = df).fit()\n",
    "print(model.summary())"
   ]
  },
  {
   "cell_type": "markdown",
   "metadata": {},
   "source": [
    "## Linear Regression with all Contextual Variables"
   ]
  },
  {
   "cell_type": "code",
   "execution_count": 94,
   "metadata": {},
   "outputs": [
    {
     "name": "stdout",
     "output_type": "stream",
     "text": [
      "                            OLS Regression Results                            \n",
      "==============================================================================\n",
      "Dep. Variable:                 change   R-squared:                       0.044\n",
      "Model:                            OLS   Adj. R-squared:                  0.022\n",
      "Method:                 Least Squares   F-statistic:                     1.948\n",
      "Date:                Thu, 21 Nov 2019   Prob (F-statistic):             0.0318\n",
      "Time:                        21:22:30   Log-Likelihood:                -905.34\n",
      "No. Observations:                 473   AIC:                             1835.\n",
      "Df Residuals:                     461   BIC:                             1885.\n",
      "Df Model:                          11                                         \n",
      "Covariance Type:            nonrobust                                         \n",
      "====================================================================================================\n",
      "                                       coef    std err          t      P>|t|      [0.025      0.975]\n",
      "----------------------------------------------------------------------------------------------------\n",
      "Intercept                           -0.0849      0.281     -0.302      0.763      -0.637       0.467\n",
      "C(gender)[T.2.0]                    -0.0161      0.168     -0.096      0.924      -0.347       0.314\n",
      "C(gender)[T.4.0]                    -0.3392      0.699     -0.485      0.628      -1.714       1.035\n",
      "C(Anxiety_disorders)[T.1]            0.5305      0.190      2.795      0.005       0.157       0.903\n",
      "C(Depression)[T.1]                  -0.0696      0.172     -0.406      0.685      -0.407       0.267\n",
      "C(Bipolar_disorder)[T.1]            -0.1135      0.379     -0.299      0.765      -0.859       0.632\n",
      "C(Personality_disorders)[T.1]       -0.4563      0.336     -1.360      0.175      -1.116       0.203\n",
      "C(Psychosis)[T.1]                    0.3165      0.348      0.910      0.363      -0.367       1.000\n",
      "C(Schizoaffective_disorder)[T.1]    -1.5962      0.672     -2.375      0.018      -2.917      -0.276\n",
      "C(Schizophrenia)[T.1]               -0.1408      0.763     -0.184      0.854      -1.641       1.360\n",
      "C(Stress)[T.1]                      -0.2667      0.167     -1.592      0.112      -0.596       0.062\n",
      "age                                  0.0099      0.008      1.316      0.189      -0.005       0.025\n",
      "==============================================================================\n",
      "Omnibus:                       48.571   Durbin-Watson:                   1.878\n",
      "Prob(Omnibus):                  0.000   Jarque-Bera (JB):              235.152\n",
      "Skew:                           0.256   Prob(JB):                     8.66e-52\n",
      "Kurtosis:                       6.416   Cond. No.                         379.\n",
      "==============================================================================\n",
      "\n",
      "Warnings:\n",
      "[1] Standard Errors assume that the covariance matrix of the errors is correctly specified.\n"
     ]
    }
   ],
   "source": [
    "model = smf.ols(\"change ~ age + C(gender) + C(Anxiety_disorders) + C(Depression) + C(Bipolar_disorder) + C(Personality_disorders) + C(Psychosis) + C(Schizoaffective_disorder) + C(Schizophrenia) + C(Stress)\", \\\n",
    "                data = df).fit()\n",
    "print(model.summary())"
   ]
  },
  {
   "cell_type": "code",
   "execution_count": 95,
   "metadata": {},
   "outputs": [
    {
     "name": "stdout",
     "output_type": "stream",
     "text": [
      "                            OLS Regression Results                            \n",
      "==============================================================================\n",
      "Dep. Variable:                 change   R-squared:                       0.021\n",
      "Model:                            OLS   Adj. R-squared:                  0.015\n",
      "Method:                 Least Squares   F-statistic:                     3.373\n",
      "Date:                Thu, 21 Nov 2019   Prob (F-statistic):             0.0184\n",
      "Time:                        21:22:40   Log-Likelihood:                -911.04\n",
      "No. Observations:                 473   AIC:                             1830.\n",
      "Df Residuals:                     469   BIC:                             1847.\n",
      "Df Model:                           3                                         \n",
      "Covariance Type:            nonrobust                                         \n",
      "=============================================================================================\n",
      "                                coef    std err          t      P>|t|      [0.025      0.975]\n",
      "---------------------------------------------------------------------------------------------\n",
      "Intercept                    -0.1690      0.271     -0.624      0.533      -0.701       0.363\n",
      "C(Anxiety_disorders)[T.1]     0.4859      0.179      2.710      0.007       0.134       0.838\n",
      "C(Stress)[T.1]               -0.2433      0.166     -1.464      0.144      -0.570       0.083\n",
      "age                           0.0103      0.007      1.429      0.154      -0.004       0.024\n",
      "==============================================================================\n",
      "Omnibus:                       54.578   Durbin-Watson:                   1.876\n",
      "Prob(Omnibus):                  0.000   Jarque-Bera (JB):              360.029\n",
      "Skew:                           0.157   Prob(JB):                     6.62e-79\n",
      "Kurtosis:                       7.262   Cond. No.                         131.\n",
      "==============================================================================\n",
      "\n",
      "Warnings:\n",
      "[1] Standard Errors assume that the covariance matrix of the errors is correctly specified.\n"
     ]
    }
   ],
   "source": [
    "model = smf.ols(\"change ~ age + C(Anxiety_disorders) + C(Stress)\", \\\n",
    "                data = df).fit()\n",
    "print(model.summary())"
   ]
  },
  {
   "cell_type": "markdown",
   "metadata": {},
   "source": [
    "### Confidence Interval\n"
   ]
  },
  {
   "cell_type": "code",
   "execution_count": 96,
   "metadata": {},
   "outputs": [
    {
     "name": "stdout",
     "output_type": "stream",
     "text": [
      "                                  0         1\n",
      "Intercept                 -0.701317  0.363381\n",
      "C(Anxiety_disorders)[T.1]  0.133622  0.838115\n",
      "C(Stress)[T.1]            -0.569849  0.083179\n",
      "age                       -0.003859  0.024444\n"
     ]
    }
   ],
   "source": [
    "print(model.conf_int())"
   ]
  },
  {
   "cell_type": "markdown",
   "metadata": {},
   "source": [
    "### Try adding the quantitative measures"
   ]
  },
  {
   "cell_type": "code",
   "execution_count": 97,
   "metadata": {},
   "outputs": [
    {
     "name": "stdout",
     "output_type": "stream",
     "text": [
      "                            OLS Regression Results                            \n",
      "==============================================================================\n",
      "Dep. Variable:                 change   R-squared:                       0.052\n",
      "Model:                            OLS   Adj. R-squared:                  0.025\n",
      "Method:                 Least Squares   F-statistic:                     1.935\n",
      "Date:                Thu, 21 Nov 2019   Prob (F-statistic):             0.0246\n",
      "Time:                        21:25:05   Log-Likelihood:                -903.47\n",
      "No. Observations:                 473   AIC:                             1835.\n",
      "Df Residuals:                     459   BIC:                             1893.\n",
      "Df Model:                          13                                         \n",
      "Covariance Type:            nonrobust                                         \n",
      "====================================================================================================\n",
      "                                       coef    std err          t      P>|t|      [0.025      0.975]\n",
      "----------------------------------------------------------------------------------------------------\n",
      "Intercept                           -0.3943      0.325     -1.211      0.226      -1.034       0.245\n",
      "C(gender)[T.2.0]                    -0.0556      0.170     -0.328      0.743      -0.389       0.278\n",
      "C(gender)[T.4.0]                    -0.4849      0.703     -0.690      0.491      -1.867       0.897\n",
      "C(Anxiety_disorders)[T.1]           -0.2772      0.476     -0.583      0.560      -1.212       0.658\n",
      "C(Depression)[T.1]                  -1.7706      0.925     -1.915      0.056      -3.588       0.047\n",
      "C(Bipolar_disorder)[T.1]            -3.7435      1.987     -1.884      0.060      -7.648       0.161\n",
      "C(Personality_disorders)[T.1]       -7.7469      3.934     -1.969      0.050     -15.478      -0.015\n",
      "C(Psychosis)[T.1]                  -14.4059      7.922     -1.818      0.070     -29.975       1.163\n",
      "C(Schizoaffective_disorder)[T.1]   -31.1963     15.947     -1.956      0.051     -62.535       0.143\n",
      "C(Schizophrenia)[T.1]              -59.5665     31.997     -1.862      0.063    -122.445       3.311\n",
      "C(Stress)[T.1]                    -118.9617     63.919     -1.861      0.063    -244.571       6.648\n",
      "age                                  0.0091      0.008      1.198      0.231      -0.006       0.024\n",
      "treat                                0.9287      0.500      1.857      0.064      -0.054       1.912\n",
      "CBT                                  0.0053      0.008      0.652      0.515      -0.011       0.021\n",
      "==============================================================================\n",
      "Omnibus:                       50.794   Durbin-Watson:                   1.874\n",
      "Prob(Omnibus):                  0.000   Jarque-Bera (JB):              233.030\n",
      "Skew:                           0.317   Prob(JB):                     2.50e-51\n",
      "Kurtosis:                       6.380   Cond. No.                     7.58e+04\n",
      "==============================================================================\n",
      "\n",
      "Warnings:\n",
      "[1] Standard Errors assume that the covariance matrix of the errors is correctly specified.\n",
      "[2] The condition number is large, 7.58e+04. This might indicate that there are\n",
      "strong multicollinearity or other numerical problems.\n"
     ]
    }
   ],
   "source": [
    "model = smf.ols(\"change ~ age + treat + CBT + C(gender) + C(Anxiety_disorders) + C(Depression) + C(Bipolar_disorder) + C(Personality_disorders) + C(Psychosis) + C(Schizoaffective_disorder) + C(Schizophrenia) + C(Stress)\", \\\n",
    "                data = df).fit()\n",
    "print(model.summary())"
   ]
  },
  {
   "cell_type": "markdown",
   "metadata": {},
   "source": [
    "## Exploratory Factor Analysis"
   ]
  },
  {
   "cell_type": "code",
   "execution_count": 101,
   "metadata": {},
   "outputs": [
    {
     "data": {
      "text/plain": [
       "(5774.105462752036, 0.0)"
      ]
     },
     "execution_count": 101,
     "metadata": {},
     "output_type": "execute_result"
    }
   ],
   "source": [
    "from factor_analyzer import FactorAnalyzer\n",
    "from factor_analyzer.factor_analyzer import calculate_bartlett_sphericity, calculate_kmo\n",
    "\n",
    "df_fact = df[df.columns.difference(['prestress','poststress','change','treatment','gender','CBThelp'])]\n",
    "chi_square_value, p_value = calculate_bartlett_sphericity(df_fact)\n",
    "chi_square_value, p_value"
   ]
  },
  {
   "cell_type": "code",
   "execution_count": 102,
   "metadata": {},
   "outputs": [
    {
     "data": {
      "text/plain": [
       "0.042015892091723975"
      ]
     },
     "execution_count": 102,
     "metadata": {},
     "output_type": "execute_result"
    }
   ],
   "source": [
    "kmo_all, kmo_model = calculate_kmo(df_fact)\n",
    "kmo_model"
   ]
  },
  {
   "cell_type": "code",
   "execution_count": 103,
   "metadata": {},
   "outputs": [
    {
     "data": {
      "image/png": "[encoded data removed]",
      "text/plain": [
       "<Figure size 432x288 with 2 Axes>"
      ]
     },
     "metadata": {
      "needs_background": "light"
     },
     "output_type": "display_data"
    }
   ],
   "source": [
    "ax = sns.heatmap(df_fact.corr(), annot=True, fmt=\".2f\")\n",
    "bottom, top = ax.get_ylim()\n",
    "ax.set_ylim(bottom + 0.5, top - 0.5)\n",
    "plt.show()"
   ]
  },
  {
   "cell_type": "code",
   "execution_count": 104,
   "metadata": {},
   "outputs": [
    {
     "data": {
      "text/html": [
       "<div>\n",
       "<style scoped>\n",
       "    .dataframe tbody tr th:only-of-type {\n",
       "        vertical-align: middle;\n",
       "    }\n",
       "\n",
       "    .dataframe tbody tr th {\n",
       "        vertical-align: top;\n",
       "    }\n",
       "\n",
       "    .dataframe thead th {\n",
       "        text-align: right;\n",
       "    }\n",
       "</style>\n",
       "<table border=\"1\" class=\"dataframe\">\n",
       "  <thead>\n",
       "    <tr style=\"text-align: right;\">\n",
       "      <th></th>\n",
       "      <th>Original_Eigenvalues</th>\n",
       "    </tr>\n",
       "  </thead>\n",
       "  <tbody>\n",
       "    <tr>\n",
       "      <td>0</td>\n",
       "      <td>2.157183</td>\n",
       "    </tr>\n",
       "    <tr>\n",
       "      <td>1</td>\n",
       "      <td>1.507012</td>\n",
       "    </tr>\n",
       "    <tr>\n",
       "      <td>2</td>\n",
       "      <td>1.298880</td>\n",
       "    </tr>\n",
       "    <tr>\n",
       "      <td>3</td>\n",
       "      <td>1.091670</td>\n",
       "    </tr>\n",
       "    <tr>\n",
       "      <td>4</td>\n",
       "      <td>0.993067</td>\n",
       "    </tr>\n",
       "    <tr>\n",
       "      <td>5</td>\n",
       "      <td>0.965647</td>\n",
       "    </tr>\n",
       "    <tr>\n",
       "      <td>6</td>\n",
       "      <td>0.917007</td>\n",
       "    </tr>\n",
       "    <tr>\n",
       "      <td>7</td>\n",
       "      <td>0.789961</td>\n",
       "    </tr>\n",
       "    <tr>\n",
       "      <td>8</td>\n",
       "      <td>0.656603</td>\n",
       "    </tr>\n",
       "    <tr>\n",
       "      <td>9</td>\n",
       "      <td>0.622966</td>\n",
       "    </tr>\n",
       "    <tr>\n",
       "      <td>10</td>\n",
       "      <td>0.000003</td>\n",
       "    </tr>\n",
       "  </tbody>\n",
       "</table>\n",
       "</div>"
      ],
      "text/plain": [
       "    Original_Eigenvalues\n",
       "0               2.157183\n",
       "1               1.507012\n",
       "2               1.298880\n",
       "3               1.091670\n",
       "4               0.993067\n",
       "5               0.965647\n",
       "6               0.917007\n",
       "7               0.789961\n",
       "8               0.656603\n",
       "9               0.622966\n",
       "10              0.000003"
      ]
     },
     "execution_count": 104,
     "metadata": {},
     "output_type": "execute_result"
    }
   ],
   "source": [
    "# Create factor analysis object and perform factor analysis\n",
    "fa = FactorAnalyzer()\n",
    "fa.analyze(df_fact, 11, rotation=None)\n",
    "# Check Eigenvalues\n",
    "ev, v = fa.get_eigenvalues()\n",
    "ev"
   ]
  },
  {
   "cell_type": "code",
   "execution_count": 105,
   "metadata": {},
   "outputs": [
    {
     "data": {
      "image/png": "[encoded data removed]",
      "text/plain": [
       "<Figure size 432x288 with 1 Axes>"
      ]
     },
     "metadata": {
      "needs_background": "light"
     },
     "output_type": "display_data"
    }
   ],
   "source": [
    "# Create scree plot using matplotlib\n",
    "plt.scatter(range(1,df_fact.shape[1]+1),ev)\n",
    "plt.plot(range(1,df_fact.shape[1]+1),ev)\n",
    "plt.title('Scree Plot')\n",
    "plt.xlabel('Factors')\n",
    "plt.ylabel('Eigenvalue')\n",
    "plt.grid()\n",
    "plt.show()"
   ]
  },
  {
   "cell_type": "code",
   "execution_count": 106,
   "metadata": {},
   "outputs": [
    {
     "data": {
      "text/html": [
       "<div>\n",
       "<style scoped>\n",
       "    .dataframe tbody tr th:only-of-type {\n",
       "        vertical-align: middle;\n",
       "    }\n",
       "\n",
       "    .dataframe tbody tr th {\n",
       "        vertical-align: top;\n",
       "    }\n",
       "\n",
       "    .dataframe thead th {\n",
       "        text-align: right;\n",
       "    }\n",
       "</style>\n",
       "<table border=\"1\" class=\"dataframe\">\n",
       "  <thead>\n",
       "    <tr style=\"text-align: right;\">\n",
       "      <th></th>\n",
       "      <th>Factor1</th>\n",
       "      <th>Factor2</th>\n",
       "      <th>Factor3</th>\n",
       "      <th>Factor4</th>\n",
       "      <th>Factor5</th>\n",
       "    </tr>\n",
       "  </thead>\n",
       "  <tbody>\n",
       "    <tr>\n",
       "      <td>Anxiety_disorders</td>\n",
       "      <td>0.109302</td>\n",
       "      <td>-0.025878</td>\n",
       "      <td>0.316071</td>\n",
       "      <td>0.047432</td>\n",
       "      <td>-0.014360</td>\n",
       "    </tr>\n",
       "    <tr>\n",
       "      <td>Bipolar_disorder</td>\n",
       "      <td>-0.016588</td>\n",
       "      <td>0.081572</td>\n",
       "      <td>0.019201</td>\n",
       "      <td>0.113971</td>\n",
       "      <td>0.227567</td>\n",
       "    </tr>\n",
       "    <tr>\n",
       "      <td>CBT</td>\n",
       "      <td>0.166938</td>\n",
       "      <td>0.058351</td>\n",
       "      <td>0.195520</td>\n",
       "      <td>0.111020</td>\n",
       "      <td>0.314116</td>\n",
       "    </tr>\n",
       "    <tr>\n",
       "      <td>Depression</td>\n",
       "      <td>-0.010642</td>\n",
       "      <td>-0.051261</td>\n",
       "      <td>0.916239</td>\n",
       "      <td>-0.081516</td>\n",
       "      <td>0.060071</td>\n",
       "    </tr>\n",
       "    <tr>\n",
       "      <td>Personality_disorders</td>\n",
       "      <td>0.003181</td>\n",
       "      <td>0.987060</td>\n",
       "      <td>-0.027717</td>\n",
       "      <td>0.003002</td>\n",
       "      <td>0.144502</td>\n",
       "    </tr>\n",
       "    <tr>\n",
       "      <td>Psychosis</td>\n",
       "      <td>-0.052707</td>\n",
       "      <td>0.009344</td>\n",
       "      <td>-0.076015</td>\n",
       "      <td>-0.070552</td>\n",
       "      <td>0.607129</td>\n",
       "    </tr>\n",
       "    <tr>\n",
       "      <td>Schizoaffective_disorder</td>\n",
       "      <td>-0.030338</td>\n",
       "      <td>0.246585</td>\n",
       "      <td>-0.055303</td>\n",
       "      <td>0.275919</td>\n",
       "      <td>0.089073</td>\n",
       "    </tr>\n",
       "    <tr>\n",
       "      <td>Schizophrenia</td>\n",
       "      <td>0.059150</td>\n",
       "      <td>-0.033351</td>\n",
       "      <td>0.061549</td>\n",
       "      <td>0.605045</td>\n",
       "      <td>0.047926</td>\n",
       "    </tr>\n",
       "    <tr>\n",
       "      <td>Stress</td>\n",
       "      <td>0.992854</td>\n",
       "      <td>-0.036112</td>\n",
       "      <td>0.095542</td>\n",
       "      <td>-0.072329</td>\n",
       "      <td>-0.063568</td>\n",
       "    </tr>\n",
       "    <tr>\n",
       "      <td>age</td>\n",
       "      <td>0.015121</td>\n",
       "      <td>-0.033775</td>\n",
       "      <td>-0.076453</td>\n",
       "      <td>-0.064811</td>\n",
       "      <td>-0.075768</td>\n",
       "    </tr>\n",
       "    <tr>\n",
       "      <td>treat</td>\n",
       "      <td>0.987497</td>\n",
       "      <td>0.003446</td>\n",
       "      <td>0.107964</td>\n",
       "      <td>0.110659</td>\n",
       "      <td>0.036799</td>\n",
       "    </tr>\n",
       "  </tbody>\n",
       "</table>\n",
       "</div>"
      ],
      "text/plain": [
       "                           Factor1   Factor2   Factor3   Factor4   Factor5\n",
       "Anxiety_disorders         0.109302 -0.025878  0.316071  0.047432 -0.014360\n",
       "Bipolar_disorder         -0.016588  0.081572  0.019201  0.113971  0.227567\n",
       "CBT                       0.166938  0.058351  0.195520  0.111020  0.314116\n",
       "Depression               -0.010642 -0.051261  0.916239 -0.081516  0.060071\n",
       "Personality_disorders     0.003181  0.987060 -0.027717  0.003002  0.144502\n",
       "Psychosis                -0.052707  0.009344 -0.076015 -0.070552  0.607129\n",
       "Schizoaffective_disorder -0.030338  0.246585 -0.055303  0.275919  0.089073\n",
       "Schizophrenia             0.059150 -0.033351  0.061549  0.605045  0.047926\n",
       "Stress                    0.992854 -0.036112  0.095542 -0.072329 -0.063568\n",
       "age                       0.015121 -0.033775 -0.076453 -0.064811 -0.075768\n",
       "treat                     0.987497  0.003446  0.107964  0.110659  0.036799"
      ]
     },
     "execution_count": 106,
     "metadata": {},
     "output_type": "execute_result"
    }
   ],
   "source": [
    "fa.analyze(df_fact, 5, rotation=\"varimax\")\n",
    "fa.loadings"
   ]
  },
  {
   "cell_type": "code",
   "execution_count": 107,
   "metadata": {},
   "outputs": [
    {
     "data": {
      "text/html": [
       "<div>\n",
       "<style scoped>\n",
       "    .dataframe tbody tr th:only-of-type {\n",
       "        vertical-align: middle;\n",
       "    }\n",
       "\n",
       "    .dataframe tbody tr th {\n",
       "        vertical-align: top;\n",
       "    }\n",
       "\n",
       "    .dataframe thead th {\n",
       "        text-align: right;\n",
       "    }\n",
       "</style>\n",
       "<table border=\"1\" class=\"dataframe\">\n",
       "  <thead>\n",
       "    <tr style=\"text-align: right;\">\n",
       "      <th></th>\n",
       "      <th>Factor1</th>\n",
       "      <th>Factor2</th>\n",
       "      <th>Factor3</th>\n",
       "      <th>Factor4</th>\n",
       "      <th>Factor5</th>\n",
       "    </tr>\n",
       "  </thead>\n",
       "  <tbody>\n",
       "    <tr>\n",
       "      <td>SS Loadings</td>\n",
       "      <td>2.008550</td>\n",
       "      <td>1.052104</td>\n",
       "      <td>1.018015</td>\n",
       "      <td>0.503085</td>\n",
       "      <td>0.565124</td>\n",
       "    </tr>\n",
       "    <tr>\n",
       "      <td>Proportion Var</td>\n",
       "      <td>0.182595</td>\n",
       "      <td>0.095646</td>\n",
       "      <td>0.092547</td>\n",
       "      <td>0.045735</td>\n",
       "      <td>0.051375</td>\n",
       "    </tr>\n",
       "    <tr>\n",
       "      <td>Cumulative Var</td>\n",
       "      <td>0.182595</td>\n",
       "      <td>0.278241</td>\n",
       "      <td>0.370788</td>\n",
       "      <td>0.416523</td>\n",
       "      <td>0.467898</td>\n",
       "    </tr>\n",
       "  </tbody>\n",
       "</table>\n",
       "</div>"
      ],
      "text/plain": [
       "                 Factor1   Factor2   Factor3   Factor4   Factor5\n",
       "SS Loadings     2.008550  1.052104  1.018015  0.503085  0.565124\n",
       "Proportion Var  0.182595  0.095646  0.092547  0.045735  0.051375\n",
       "Cumulative Var  0.182595  0.278241  0.370788  0.416523  0.467898"
      ]
     },
     "execution_count": 107,
     "metadata": {},
     "output_type": "execute_result"
    }
   ],
   "source": [
    "fa.get_factor_variance()"
   ]
  },
  {
   "cell_type": "markdown",
   "metadata": {},
   "source": [
    "## XGBoost"
   ]
  },
  {
   "cell_type": "code",
   "execution_count": 114,
   "metadata": {},
   "outputs": [
    {
     "data": {
      "text/html": [
       "<div>\n",
       "<style scoped>\n",
       "    .dataframe tbody tr th:only-of-type {\n",
       "        vertical-align: middle;\n",
       "    }\n",
       "\n",
       "    .dataframe tbody tr th {\n",
       "        vertical-align: top;\n",
       "    }\n",
       "\n",
       "    .dataframe thead th {\n",
       "        text-align: right;\n",
       "    }\n",
       "</style>\n",
       "<table border=\"1\" class=\"dataframe\">\n",
       "  <thead>\n",
       "    <tr style=\"text-align: right;\">\n",
       "      <th></th>\n",
       "      <th>Anxiety_disorders</th>\n",
       "      <th>Bipolar_disorder</th>\n",
       "      <th>CBT</th>\n",
       "      <th>Depression</th>\n",
       "      <th>Personality_disorders</th>\n",
       "      <th>Psychosis</th>\n",
       "      <th>Schizoaffective_disorder</th>\n",
       "      <th>Schizophrenia</th>\n",
       "      <th>Stress</th>\n",
       "      <th>age</th>\n",
       "      <th>gender</th>\n",
       "      <th>treat</th>\n",
       "    </tr>\n",
       "  </thead>\n",
       "  <tbody>\n",
       "    <tr>\n",
       "      <td>0</td>\n",
       "      <td>0</td>\n",
       "      <td>0</td>\n",
       "      <td>1</td>\n",
       "      <td>0</td>\n",
       "      <td>0</td>\n",
       "      <td>0</td>\n",
       "      <td>0</td>\n",
       "      <td>0</td>\n",
       "      <td>0</td>\n",
       "      <td>53.0</td>\n",
       "      <td>1</td>\n",
       "      <td>0.5</td>\n",
       "    </tr>\n",
       "    <tr>\n",
       "      <td>1</td>\n",
       "      <td>0</td>\n",
       "      <td>0</td>\n",
       "      <td>1</td>\n",
       "      <td>0</td>\n",
       "      <td>0</td>\n",
       "      <td>0</td>\n",
       "      <td>0</td>\n",
       "      <td>0</td>\n",
       "      <td>0</td>\n",
       "      <td>24.0</td>\n",
       "      <td>1</td>\n",
       "      <td>0.5</td>\n",
       "    </tr>\n",
       "    <tr>\n",
       "      <td>2</td>\n",
       "      <td>0</td>\n",
       "      <td>1</td>\n",
       "      <td>8</td>\n",
       "      <td>0</td>\n",
       "      <td>0</td>\n",
       "      <td>0</td>\n",
       "      <td>0</td>\n",
       "      <td>0</td>\n",
       "      <td>0</td>\n",
       "      <td>38.0</td>\n",
       "      <td>1</td>\n",
       "      <td>4.0</td>\n",
       "    </tr>\n",
       "    <tr>\n",
       "      <td>3</td>\n",
       "      <td>1</td>\n",
       "      <td>0</td>\n",
       "      <td>9</td>\n",
       "      <td>1</td>\n",
       "      <td>0</td>\n",
       "      <td>0</td>\n",
       "      <td>0</td>\n",
       "      <td>0</td>\n",
       "      <td>1</td>\n",
       "      <td>59.0</td>\n",
       "      <td>2</td>\n",
       "      <td>131.0</td>\n",
       "    </tr>\n",
       "    <tr>\n",
       "      <td>4</td>\n",
       "      <td>0</td>\n",
       "      <td>0</td>\n",
       "      <td>22</td>\n",
       "      <td>1</td>\n",
       "      <td>0</td>\n",
       "      <td>0</td>\n",
       "      <td>0</td>\n",
       "      <td>0</td>\n",
       "      <td>0</td>\n",
       "      <td>31.0</td>\n",
       "      <td>1</td>\n",
       "      <td>2.0</td>\n",
       "    </tr>\n",
       "  </tbody>\n",
       "</table>\n",
       "</div>"
      ],
      "text/plain": [
       "   Anxiety_disorders  Bipolar_disorder  CBT  Depression  \\\n",
       "0                  0                 0    1           0   \n",
       "1                  0                 0    1           0   \n",
       "2                  0                 1    8           0   \n",
       "3                  1                 0    9           1   \n",
       "4                  0                 0   22           1   \n",
       "\n",
       "   Personality_disorders  Psychosis  Schizoaffective_disorder  Schizophrenia  \\\n",
       "0                      0          0                         0              0   \n",
       "1                      0          0                         0              0   \n",
       "2                      0          0                         0              0   \n",
       "3                      0          0                         0              0   \n",
       "4                      0          0                         0              0   \n",
       "\n",
       "   Stress   age  gender  treat  \n",
       "0       0  53.0       1    0.5  \n",
       "1       0  24.0       1    0.5  \n",
       "2       0  38.0       1    4.0  \n",
       "3       1  59.0       2  131.0  \n",
       "4       0  31.0       1    2.0  "
      ]
     },
     "execution_count": 114,
     "metadata": {},
     "output_type": "execute_result"
    }
   ],
   "source": [
    "import xgboost as xgb\n",
    "from sklearn.metrics import mean_squared_error\n",
    "from sklearn.model_selection import train_test_split\n",
    "\n",
    "dfxg = df[df.columns.difference(['prestress','poststress','treatment','CBThelp'])]\n",
    "dfxg.gender = dfxg.gender.astype(int)\n",
    "y = dfxg['change']\n",
    "X = dfxg[dfxg.columns.difference(['change'])]\n",
    "X.head()"
   ]
  },
  {
   "cell_type": "code",
   "execution_count": 115,
   "metadata": {},
   "outputs": [
    {
     "name": "stdout",
     "output_type": "stream",
     "text": [
      "RMSE: 1.633550\n"
     ]
    }
   ],
   "source": [
    "data_dmatrix = xgb.DMatrix(data=X,label=y)\n",
    "X_train, X_test, y_train, y_test = train_test_split(X, y, test_size=0.3, random_state=511)\n",
    "\n",
    "xg_reg = xgb.XGBRegressor(objective ='reg:squarederror', colsample_bytree = 0.4, learning_rate = 0.1, subsample = 0.75, \\\n",
    "                          max_depth = 5, alpha = 10, n_estimators = 10)\n",
    "\n",
    "xg_reg.fit(X_train,y_train)\n",
    "preds = xg_reg.predict(X_test)\n",
    "\n",
    "rmse = np.sqrt(mean_squared_error(y_test, preds))\n",
    "print(\"RMSE: %f\" % (rmse))"
   ]
  },
  {
   "cell_type": "code",
   "execution_count": 117,
   "metadata": {},
   "outputs": [
    {
     "data": {
      "image/png": "[encoded data removed]",
      "text/plain": [
       "<Figure size 792x360 with 1 Axes>"
      ]
     },
     "metadata": {
      "needs_background": "light"
     },
     "output_type": "display_data"
    }
   ],
   "source": [
    "xgb.plot_importance(xg_reg)\n",
    "plt.rcParams['figure.figsize'] = [11, 5]\n",
    "plt.show()"
   ]
  }
 ],
 "metadata": {
  "kernelspec": {
   "display_name": "Python 3",
   "language": "python",
   "name": "python3"
  },
  "language_info": {
   "codemirror_mode": {
    "name": "ipython",
    "version": 3
   },
   "file_extension": ".py",
   "mimetype": "text/x-python",
   "name": "python",
   "nbconvert_exporter": "python",
   "pygments_lexer": "ipython3",
   "version": "3.7.3"
  }
 },
 "nbformat": 4,
 "nbformat_minor": 2
}
