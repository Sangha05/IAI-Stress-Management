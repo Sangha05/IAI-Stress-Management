{
 "cells": [
  {
   "cell_type": "markdown",
   "metadata": {},
   "source": [
    "## Data Cleaning and Data Wrangling"
   ]
  },
  {
   "cell_type": "code",
   "execution_count": 2,
   "metadata": {},
   "outputs": [],
   "source": [
    "import pandas as pd\n",
    "import numpy as np\n",
    "import matplotlib.pyplot as plt\n",
    "import scipy.stats as stats"
   ]
  },
  {
   "cell_type": "code",
   "execution_count": 3,
   "metadata": {},
   "outputs": [
    {
     "name": "stdout",
     "output_type": "stream",
     "text": [
      "<class 'pandas.core.frame.DataFrame'>\n",
      "RangeIndex: 531 entries, 0 to 530\n",
      "Data columns (total 6 columns):\n",
      "prestress     531 non-null int64\n",
      "poststress    531 non-null int64\n",
      "age           531 non-null int64\n",
      "gender        531 non-null category\n",
      "treatment     331 non-null object\n",
      "change        531 non-null int64\n",
      "dtypes: category(1), int64(4), object(1)\n",
      "memory usage: 21.5+ KB\n"
     ]
    }
   ],
   "source": [
    "file = pd.read_csv('Sept_14_Data.csv')\n",
    "file = file[file.columns[:-2]]\n",
    "file = file.drop([0, 1]).reset_index().drop('index', axis=1)\n",
    "\n",
    "df = pd.DataFrame()\n",
    "# Q45 - Please rate how troubled you feel about your stressful situation. Scale 0 (not troubled)-10 (very troubled)\n",
    "file['Q45'] = file['Q45'].replace(['', np.inf, -np.inf], np.nan)\n",
    "# Q46 - Please re-rate how troubled you feel about your stressful situation. Scale 0 (not troubled)-10 (very troubled)\n",
    "file['Q46'] = file['Q46'].replace(['', np.inf, -np.inf], np.nan)\n",
    "\n",
    "\n",
    "df[\"prestress\"] = file[\"Q45\"].fillna(file[\"Q31\"]).replace(['', np.inf, -np.inf, np.nan], -99)\n",
    "df[\"poststress\"] = file[\"Q46\"].fillna(file[\"Q32\"]).replace(['', np.inf, -np.inf, np.nan], -99)\n",
    "\n",
    "# Q109 - How old are you? Values allowed 18 to 100\n",
    "df[\"age\"] = file['Q109'].replace(['', np.inf, -np.inf, np.nan], -99)\n",
    "# Q110 - How would you describe your gender identity? 1-Male, 2-Female, 4-Other\n",
    "df[\"gender\"] = file['Q110'].replace(['', np.inf, -np.inf, np.nan], -99)\n",
    "# Q107 - Have you sought treatment from a professional for any of the following? 8 options with user choice of 0 to 8 options\n",
    "df[\"treatment\"] = file['Q107']\n",
    "# Q129 - How much experience have you had previously with Cognitive Behavioral Therapy Techniques? 4 options - single answer\n",
    "# NOTE: Not Available in CSV\n",
    "# df[\"CBTself\"] = file['Q129'].replace('',np.nan)\n",
    "# Q130 - How many therapy/counseling sessions have you been to (using Cognitive Behavioral Therapy techniques)? 4 options\n",
    "# NOTE: Not Available in CSV\n",
    "# df[\"CBTsess\"] = file['Q130'].replace('',np.nan)\n",
    "\n",
    "df[\"poststress\"] = df[\"poststress\"].astype(int)\n",
    "df[\"prestress\"] = df[\"prestress\"].astype(int)\n",
    "df[\"age\"] = df[\"age\"].astype(int)\n",
    "df[\"gender\"] = df[\"gender\"].astype('category')\n",
    "\n",
    "# Reward - Change in stress level\n",
    "df['change'] = df['prestress'] - df['poststress']\n",
    "\n",
    "df.info()"
   ]
  },
  {
   "cell_type": "code",
   "execution_count": 4,
   "metadata": {},
   "outputs": [
    {
     "data": {
      "text/html": [
       "<div>\n",
       "<style scoped>\n",
       "    .dataframe tbody tr th:only-of-type {\n",
       "        vertical-align: middle;\n",
       "    }\n",
       "\n",
       "    .dataframe tbody tr th {\n",
       "        vertical-align: top;\n",
       "    }\n",
       "\n",
       "    .dataframe thead th {\n",
       "        text-align: right;\n",
       "    }\n",
       "</style>\n",
       "<table border=\"1\" class=\"dataframe\">\n",
       "  <thead>\n",
       "    <tr style=\"text-align: right;\">\n",
       "      <th></th>\n",
       "      <th>prestress</th>\n",
       "      <th>poststress</th>\n",
       "      <th>age</th>\n",
       "      <th>gender</th>\n",
       "      <th>treatment</th>\n",
       "      <th>change</th>\n",
       "    </tr>\n",
       "  </thead>\n",
       "  <tbody>\n",
       "    <tr>\n",
       "      <th>0</th>\n",
       "      <td>8.0</td>\n",
       "      <td>7.0</td>\n",
       "      <td>38.0</td>\n",
       "      <td>1.0</td>\n",
       "      <td>3</td>\n",
       "      <td>1</td>\n",
       "    </tr>\n",
       "    <tr>\n",
       "      <th>1</th>\n",
       "      <td>7.0</td>\n",
       "      <td>4.0</td>\n",
       "      <td>59.0</td>\n",
       "      <td>2.0</td>\n",
       "      <td>1,2,8</td>\n",
       "      <td>3</td>\n",
       "    </tr>\n",
       "    <tr>\n",
       "      <th>2</th>\n",
       "      <td>8.0</td>\n",
       "      <td>6.0</td>\n",
       "      <td>31.0</td>\n",
       "      <td>1.0</td>\n",
       "      <td>2</td>\n",
       "      <td>2</td>\n",
       "    </tr>\n",
       "    <tr>\n",
       "      <th>3</th>\n",
       "      <td>9.0</td>\n",
       "      <td>8.0</td>\n",
       "      <td>29.0</td>\n",
       "      <td>1.0</td>\n",
       "      <td>1,2,8</td>\n",
       "      <td>1</td>\n",
       "    </tr>\n",
       "    <tr>\n",
       "      <th>4</th>\n",
       "      <td>6.0</td>\n",
       "      <td>6.0</td>\n",
       "      <td>34.0</td>\n",
       "      <td>1.0</td>\n",
       "      <td>6</td>\n",
       "      <td>0</td>\n",
       "    </tr>\n",
       "  </tbody>\n",
       "</table>\n",
       "</div>"
      ],
      "text/plain": [
       "   prestress  poststress   age gender treatment  change\n",
       "0        8.0         7.0  38.0    1.0         3       1\n",
       "1        7.0         4.0  59.0    2.0     1,2,8       3\n",
       "2        8.0         6.0  31.0    1.0         2       2\n",
       "3        9.0         8.0  29.0    1.0     1,2,8       1\n",
       "4        6.0         6.0  34.0    1.0         6       0"
      ]
     },
     "execution_count": 4,
     "metadata": {},
     "output_type": "execute_result"
    }
   ],
   "source": [
    "# Remove all values with -99 which indicates that the user hasn't filled the field\n",
    "df = df.replace(-99,np.nan).replace('-99',np.nan)\n",
    "df.dropna(inplace=True)\n",
    "df.reset_index(drop=True, inplace=True)\n",
    "df.head()"
   ]
  },
  {
   "cell_type": "code",
   "execution_count": 5,
   "metadata": {},
   "outputs": [
    {
     "data": {
      "text/html": [
       "<div>\n",
       "<style scoped>\n",
       "    .dataframe tbody tr th:only-of-type {\n",
       "        vertical-align: middle;\n",
       "    }\n",
       "\n",
       "    .dataframe tbody tr th {\n",
       "        vertical-align: top;\n",
       "    }\n",
       "\n",
       "    .dataframe thead th {\n",
       "        text-align: right;\n",
       "    }\n",
       "</style>\n",
       "<table border=\"1\" class=\"dataframe\">\n",
       "  <thead>\n",
       "    <tr style=\"text-align: right;\">\n",
       "      <th></th>\n",
       "      <th>prestress</th>\n",
       "      <th>poststress</th>\n",
       "      <th>age</th>\n",
       "      <th>gender</th>\n",
       "      <th>treatment</th>\n",
       "      <th>change</th>\n",
       "      <th>Anxiety_disorders</th>\n",
       "      <th>Depression</th>\n",
       "      <th>Bipolar_disorder</th>\n",
       "      <th>Personality_disorders</th>\n",
       "      <th>Psychosis</th>\n",
       "      <th>Schizoaffective_disorder</th>\n",
       "      <th>Schizophrenia</th>\n",
       "      <th>Stress</th>\n",
       "    </tr>\n",
       "  </thead>\n",
       "  <tbody>\n",
       "    <tr>\n",
       "      <th>0</th>\n",
       "      <td>8.0</td>\n",
       "      <td>7.0</td>\n",
       "      <td>38.0</td>\n",
       "      <td>1.0</td>\n",
       "      <td>3</td>\n",
       "      <td>1</td>\n",
       "      <td>0</td>\n",
       "      <td>0</td>\n",
       "      <td>1</td>\n",
       "      <td>0</td>\n",
       "      <td>0</td>\n",
       "      <td>0</td>\n",
       "      <td>0</td>\n",
       "      <td>0</td>\n",
       "    </tr>\n",
       "    <tr>\n",
       "      <th>1</th>\n",
       "      <td>7.0</td>\n",
       "      <td>4.0</td>\n",
       "      <td>59.0</td>\n",
       "      <td>2.0</td>\n",
       "      <td>1,2,8</td>\n",
       "      <td>3</td>\n",
       "      <td>1</td>\n",
       "      <td>1</td>\n",
       "      <td>0</td>\n",
       "      <td>0</td>\n",
       "      <td>0</td>\n",
       "      <td>0</td>\n",
       "      <td>0</td>\n",
       "      <td>1</td>\n",
       "    </tr>\n",
       "    <tr>\n",
       "      <th>2</th>\n",
       "      <td>8.0</td>\n",
       "      <td>6.0</td>\n",
       "      <td>31.0</td>\n",
       "      <td>1.0</td>\n",
       "      <td>2</td>\n",
       "      <td>2</td>\n",
       "      <td>0</td>\n",
       "      <td>1</td>\n",
       "      <td>0</td>\n",
       "      <td>0</td>\n",
       "      <td>0</td>\n",
       "      <td>0</td>\n",
       "      <td>0</td>\n",
       "      <td>0</td>\n",
       "    </tr>\n",
       "    <tr>\n",
       "      <th>3</th>\n",
       "      <td>9.0</td>\n",
       "      <td>8.0</td>\n",
       "      <td>29.0</td>\n",
       "      <td>1.0</td>\n",
       "      <td>1,2,8</td>\n",
       "      <td>1</td>\n",
       "      <td>1</td>\n",
       "      <td>1</td>\n",
       "      <td>0</td>\n",
       "      <td>0</td>\n",
       "      <td>0</td>\n",
       "      <td>0</td>\n",
       "      <td>0</td>\n",
       "      <td>1</td>\n",
       "    </tr>\n",
       "    <tr>\n",
       "      <th>4</th>\n",
       "      <td>6.0</td>\n",
       "      <td>6.0</td>\n",
       "      <td>34.0</td>\n",
       "      <td>1.0</td>\n",
       "      <td>6</td>\n",
       "      <td>0</td>\n",
       "      <td>0</td>\n",
       "      <td>0</td>\n",
       "      <td>0</td>\n",
       "      <td>0</td>\n",
       "      <td>0</td>\n",
       "      <td>1</td>\n",
       "      <td>0</td>\n",
       "      <td>0</td>\n",
       "    </tr>\n",
       "  </tbody>\n",
       "</table>\n",
       "</div>"
      ],
      "text/plain": [
       "   prestress  poststress   age gender treatment  change  Anxiety_disorders  \\\n",
       "0        8.0         7.0  38.0    1.0         3       1                  0   \n",
       "1        7.0         4.0  59.0    2.0     1,2,8       3                  1   \n",
       "2        8.0         6.0  31.0    1.0         2       2                  0   \n",
       "3        9.0         8.0  29.0    1.0     1,2,8       1                  1   \n",
       "4        6.0         6.0  34.0    1.0         6       0                  0   \n",
       "\n",
       "   Depression  Bipolar_disorder  Personality_disorders  Psychosis  \\\n",
       "0           0                 1                      0          0   \n",
       "1           1                 0                      0          0   \n",
       "2           1                 0                      0          0   \n",
       "3           1                 0                      0          0   \n",
       "4           0                 0                      0          0   \n",
       "\n",
       "   Schizoaffective_disorder  Schizophrenia  Stress  \n",
       "0                         0              0       0  \n",
       "1                         0              0       1  \n",
       "2                         0              0       0  \n",
       "3                         0              0       1  \n",
       "4                         1              0       0  "
      ]
     },
     "execution_count": 5,
     "metadata": {},
     "output_type": "execute_result"
    }
   ],
   "source": [
    "# Creating different categorical variables for the treatments the user has previously recieved\n",
    "df.treatment = df.treatment.astype(str)\n",
    "treat_dict = {1:\"Anxiety_disorders\", 2:\"Depression\", 3:\"Bipolar_disorder\", 4:\"Personality_disorders\", 5:\"Psychosis\",\n",
    "              6:\"Schizoaffective_disorder\", 7:\"Schizophrenia\", 8:\"Stress\"}\n",
    "for val, treat in treat_dict.items():\n",
    "    df[treat] = np.where(df.treatment.str.contains(str(val)), 1, 0)\n",
    "df.head()"
   ]
  },
  {
   "cell_type": "markdown",
   "metadata": {},
   "source": [
    "## Initial Analysis with only Age and Gender"
   ]
  },
  {
   "cell_type": "code",
   "execution_count": 6,
   "metadata": {},
   "outputs": [
    {
     "data": {
      "text/plain": [
       "<seaborn.axisgrid.FacetGrid at 0x1a224fd710>"
      ]
     },
     "execution_count": 6,
     "metadata": {},
     "output_type": "execute_result"
    },
    {
     "data": {
      "image/png": "[encoded data removed]",
      "text/plain": [
       "<Figure size 421.875x360 with 1 Axes>"
      ]
     },
     "metadata": {
      "needs_background": "light"
     },
     "output_type": "display_data"
    }
   ],
   "source": [
    "import seaborn as sns\n",
    "import warnings\n",
    "warnings.filterwarnings('ignore')\n",
    "\n",
    "sns.lmplot(y = 'change', x = 'age', hue='gender', data = df)"
   ]
  },
  {
   "cell_type": "code",
   "execution_count": 7,
   "metadata": {},
   "outputs": [
    {
     "name": "stdout",
     "output_type": "stream",
     "text": [
      "                            OLS Regression Results                            \n",
      "==============================================================================\n",
      "Dep. Variable:                 change   R-squared:                       0.003\n",
      "Model:                            OLS   Adj. R-squared:                 -0.007\n",
      "Method:                 Least Squares   F-statistic:                    0.2859\n",
      "Date:                Wed, 20 Nov 2019   Prob (F-statistic):              0.836\n",
      "Time:                        13:39:21   Log-Likelihood:                -651.86\n",
      "No. Observations:                 328   AIC:                             1312.\n",
      "Df Residuals:                     324   BIC:                             1327.\n",
      "Df Model:                           3                                         \n",
      "Covariance Type:            nonrobust                                         \n",
      "====================================================================================\n",
      "                       coef    std err          t      P>|t|      [0.025      0.975]\n",
      "------------------------------------------------------------------------------------\n",
      "Intercept            0.2114      0.312      0.679      0.498      -0.401       0.824\n",
      "C(gender)[T.1.0]     0.0509      0.235      0.217      0.828      -0.410       0.512\n",
      "C(gender)[T.2.0]     0.2332      0.269      0.866      0.387      -0.297       0.763\n",
      "C(gender)[T.4.0]    -0.0728      0.599     -0.122      0.903      -1.251       1.105\n",
      "age                 -0.0050      0.010     -0.521      0.602      -0.024       0.014\n",
      "==============================================================================\n",
      "Omnibus:                       41.484   Durbin-Watson:                   1.901\n",
      "Prob(Omnibus):                  0.000   Jarque-Bera (JB):              292.722\n",
      "Skew:                           0.063   Prob(JB):                     2.73e-64\n",
      "Kurtosis:                       7.626   Cond. No.                     1.24e+17\n",
      "==============================================================================\n",
      "\n",
      "Warnings:\n",
      "[1] Standard Errors assume that the covariance matrix of the errors is correctly specified.\n",
      "[2] The smallest eigenvalue is 2.7e-29. This might indicate that there are\n",
      "strong multicollinearity problems or that the design matrix is singular.\n"
     ]
    }
   ],
   "source": [
    "import statsmodels.formula.api as smf\n",
    "model = smf.ols(\"change ~ age + C(gender)\", data = df).fit()\n",
    "print(model.summary())"
   ]
  },
  {
   "cell_type": "markdown",
   "metadata": {},
   "source": [
    "## Linear Regression with all Contextual Variables"
   ]
  },
  {
   "cell_type": "code",
   "execution_count": 36,
   "metadata": {},
   "outputs": [
    {
     "name": "stdout",
     "output_type": "stream",
     "text": [
      "                                         0         1\n",
      "Intercept                        -0.822200  0.595697\n",
      "C(gender)[T.1.0]                 -0.325063  0.595176\n",
      "C(gender)[T.2.0]                 -0.359269  0.695353\n",
      "C(gender)[T.4.0]                 -1.629992  0.797293\n",
      "C(Anxiety_disorders)[T.1]         0.213833  1.048648\n",
      "C(Depression)[T.1]               -0.303302  0.511347\n",
      "C(Bipolar_disorder)[T.1]         -0.835025  0.751469\n",
      "C(Personality_disorders)[T.1]    -1.040581  0.394882\n",
      "C(Psychosis)[T.1]                -0.252951  1.240475\n",
      "C(Schizoaffective_disorder)[T.1] -2.797680  0.006765\n",
      "C(Schizophrenia)[T.1]            -1.713546  1.453135\n",
      "C(Stress)[T.1]                   -0.467458  0.361994\n",
      "age                              -0.021677  0.016018\n",
      "                            OLS Regression Results                            \n",
      "==============================================================================\n",
      "Dep. Variable:                 change   R-squared:                       0.057\n",
      "Model:                            OLS   Adj. R-squared:                  0.024\n",
      "Method:                 Least Squares   F-statistic:                     1.729\n",
      "Date:                Wed, 20 Nov 2019   Prob (F-statistic):             0.0661\n",
      "Time:                        14:05:28   Log-Likelihood:                -642.71\n",
      "No. Observations:                 328   AIC:                             1309.\n",
      "Df Residuals:                     316   BIC:                             1355.\n",
      "Df Model:                          11                                         \n",
      "Covariance Type:            nonrobust                                         \n",
      "====================================================================================================\n",
      "                                       coef    std err          t      P>|t|      [0.025      0.975]\n",
      "----------------------------------------------------------------------------------------------------\n",
      "Intercept                           -0.1133      0.360     -0.314      0.754      -0.822       0.596\n",
      "C(gender)[T.1.0]                     0.1351      0.234      0.578      0.564      -0.325       0.595\n",
      "C(gender)[T.2.0]                     0.1680      0.268      0.627      0.531      -0.359       0.695\n",
      "C(gender)[T.4.0]                    -0.4163      0.617     -0.675      0.500      -1.630       0.797\n",
      "C(Anxiety_disorders)[T.1]            0.6312      0.212      2.975      0.003       0.214       1.049\n",
      "C(Depression)[T.1]                   0.1040      0.207      0.502      0.616      -0.303       0.511\n",
      "C(Bipolar_disorder)[T.1]            -0.0418      0.403     -0.104      0.918      -0.835       0.751\n",
      "C(Personality_disorders)[T.1]       -0.3228      0.365     -0.885      0.377      -1.041       0.395\n",
      "C(Psychosis)[T.1]                    0.4938      0.380      1.301      0.194      -0.253       1.240\n",
      "C(Schizoaffective_disorder)[T.1]    -1.3955      0.713     -1.958      0.051      -2.798       0.007\n",
      "C(Schizophrenia)[T.1]               -0.1302      0.805     -0.162      0.872      -1.714       1.453\n",
      "C(Stress)[T.1]                      -0.0527      0.211     -0.250      0.803      -0.467       0.362\n",
      "age                                 -0.0028      0.010     -0.295      0.768      -0.022       0.016\n",
      "==============================================================================\n",
      "Omnibus:                       36.291   Durbin-Watson:                   1.920\n",
      "Prob(Omnibus):                  0.000   Jarque-Bera (JB):              193.587\n",
      "Skew:                           0.173   Prob(JB):                     9.19e-43\n",
      "Kurtosis:                       6.748   Cond. No.                     1.26e+17\n",
      "==============================================================================\n",
      "\n",
      "Warnings:\n",
      "[1] Standard Errors assume that the covariance matrix of the errors is correctly specified.\n",
      "[2] The smallest eigenvalue is 2.63e-29. This might indicate that there are\n",
      "strong multicollinearity problems or that the design matrix is singular.\n"
     ]
    }
   ],
   "source": [
    "model = smf.ols(\"change ~ age + C(gender) + C(Anxiety_disorders) + C(Depression) + C(Bipolar_disorder) + C(Personality_disorders) + C(Psychosis) + C(Schizoaffective_disorder) + C(Schizophrenia) + C(Stress)\", \\\n",
    "                data = df).fit()\n",
    "print(model.summary())"
   ]
  },
  {
   "cell_type": "code",
   "execution_count": 47,
   "metadata": {},
   "outputs": [
    {
     "name": "stdout",
     "output_type": "stream",
     "text": [
      "                            OLS Regression Results                            \n",
      "==============================================================================\n",
      "Dep. Variable:                 change   R-squared:                       0.030\n",
      "Model:                            OLS   Adj. R-squared:                  0.021\n",
      "Method:                 Least Squares   F-statistic:                     3.306\n",
      "Date:                Wed, 20 Nov 2019   Prob (F-statistic):             0.0205\n",
      "Time:                        14:15:32   Log-Likelihood:                -647.35\n",
      "No. Observations:                 328   AIC:                             1303.\n",
      "Df Residuals:                     324   BIC:                             1318.\n",
      "Df Model:                           3                                         \n",
      "Covariance Type:            nonrobust                                         \n",
      "=============================================================================================\n",
      "                                coef    std err          t      P>|t|      [0.025      0.975]\n",
      "---------------------------------------------------------------------------------------------\n",
      "Intercept                     0.0213      0.339      0.063      0.950      -0.646       0.688\n",
      "C(Anxiety_disorders)[T.1]     0.6280      0.202      3.112      0.002       0.231       1.025\n",
      "C(Stress)[T.1]               -0.0498      0.195     -0.255      0.799      -0.434       0.334\n",
      "age                          -0.0020      0.009     -0.221      0.825      -0.020       0.016\n",
      "==============================================================================\n",
      "Omnibus:                       41.693   Durbin-Watson:                   1.895\n",
      "Prob(Omnibus):                  0.000   Jarque-Bera (JB):              291.496\n",
      "Skew:                           0.096   Prob(JB):                     5.04e-64\n",
      "Kurtosis:                       7.614   Cond. No.                         128.\n",
      "==============================================================================\n",
      "\n",
      "Warnings:\n",
      "[1] Standard Errors assume that the covariance matrix of the errors is correctly specified.\n"
     ]
    }
   ],
   "source": [
    "model = smf.ols(\"change ~ age + C(Anxiety_disorders) + C(Stress)\", \\\n",
    "                data = df).fit()\n",
    "print(model.summary())"
   ]
  },
  {
   "cell_type": "markdown",
   "metadata": {},
   "source": [
    "### Confidence Interval\n"
   ]
  },
  {
   "cell_type": "code",
   "execution_count": 48,
   "metadata": {},
   "outputs": [
    {
     "name": "stdout",
     "output_type": "stream",
     "text": [
      "                                  0         1\n",
      "Intercept                 -0.645879  0.688384\n",
      "C(Anxiety_disorders)[T.1]  0.231042  1.024922\n",
      "C(Stress)[T.1]            -0.433708  0.334162\n",
      "age                       -0.020040  0.015989\n"
     ]
    }
   ],
   "source": [
    "print(model.conf_int())"
   ]
  },
  {
   "cell_type": "markdown",
   "metadata": {},
   "source": [
    "## TODO: Exploratory Factor Analysis"
   ]
  },
  {
   "cell_type": "code",
   "execution_count": null,
   "metadata": {},
   "outputs": [],
   "source": []
  }
 ],
 "metadata": {
  "kernelspec": {
   "display_name": "Python 3",
   "language": "python",
   "name": "python3"
  },
  "language_info": {
   "codemirror_mode": {
    "name": "ipython",
    "version": 3
   },
   "file_extension": ".py",
   "mimetype": "text/x-python",
   "name": "python",
   "nbconvert_exporter": "python",
   "pygments_lexer": "ipython3",
   "version": "3.7.3"
  }
 },
 "nbformat": 4,
 "nbformat_minor": 2
}
